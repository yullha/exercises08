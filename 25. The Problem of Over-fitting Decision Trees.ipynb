{
 "cells": [
  {
   "cell_type": "markdown",
   "metadata": {
    "id": "5soGuirloNgq"
   },
   "source": [
    "![Astrofisica Computacional](../logo.PNG)"
   ]
  },
  {
   "cell_type": "markdown",
   "metadata": {},
   "source": [
    "---\n",
    "## 25. El problema del sobre-ajuste de los Árboles de Decisión.\n",
    "\n",
    "\n",
    "Eduard Larrañaga (ealarranaga@unal.edu.co)\n",
    "\n",
    "---"
   ]
  },
  {
   "cell_type": "markdown",
   "metadata": {
    "id": "Ff4KTapaoNgx"
   },
   "source": [
    "### Resumen\n",
    "\n",
    "En este cuaderno se ilustrará el problema del sobre-ajuste de los árboles de decisión.\n",
    "\n",
    "---"
   ]
  },
  {
   "cell_type": "markdown",
   "metadata": {
    "id": "Y85Y_aIb8meo"
   },
   "source": [
    "El sobre-ajuste de datos hace referencia a que un algoritmo intenta incorporar todos los puntos del conjunto de datos (incluso los más aislados). Esto puede tener como consecuencia que se pierde el poder de predicción general. \n",
    "\n",
    "\n",
    "En este cuaderno ilustraremos estos inconvenientes en el algoritmo de árbol de decisión cuando su entrenamiento no se supervisa."
   ]
  },
  {
   "cell_type": "markdown",
   "metadata": {
    "id": "cn0RkhCyHfEO"
   },
   "source": [
    "### Cargando los datos\n",
    "\n",
    "De nuevo utilizaremos el archivo `'sdss_galaxy_colors.npy'`con los datos fotométricos de las galaxias. \n"
   ]
  },
  {
   "cell_type": "code",
   "execution_count": 1,
   "metadata": {
    "id": "z2_uSWSg5VRk"
   },
   "outputs": [
    {
     "data": {
      "text/plain": [
       "array([(19.84132, 19.52656, 19.46946, 19.17955, 19.10763, b'QSO', 0.539301  , 6.543622e-05),\n",
       "       (19.86318, 18.66298, 17.84272, 17.38978, 17.14313, b'GALAXY', 0.1645703 , 1.186625e-05),\n",
       "       (19.97362, 18.31421, 17.47922, 17.0744 , 16.76174, b'GALAXY', 0.04190006, 2.183788e-05),\n",
       "       ...,\n",
       "       (19.82667, 18.10038, 17.16133, 16.5796 , 16.19755, b'GALAXY', 0.0784592 , 2.159406e-05),\n",
       "       (19.98672, 19.75385, 19.5713 , 19.27739, 19.25895, b'QSO', 1.567295  , 4.505933e-04),\n",
       "       (18.00024, 17.80957, 17.77302, 17.72663, 17.7264 , b'QSO', 0.4749449 , 6.203324e-05)],\n",
       "      dtype=[('u', '<f8'), ('g', '<f8'), ('r', '<f8'), ('i', '<f8'), ('z', '<f8'), ('spec_class', 'S6'), ('redshift', '<f8'), ('redshift_err', '<f8')])"
      ]
     },
     "execution_count": 1,
     "metadata": {},
     "output_type": "execute_result"
    }
   ],
   "source": [
    "import numpy as np\n",
    "\n",
    "data = np.load('sdss_galaxy_colors.npy')\n",
    "data"
   ]
  },
  {
   "cell_type": "markdown",
   "metadata": {
    "id": "C7pkVeizIyj5"
   },
   "source": [
    "Las características incorporados en el conjunto de datos son:\n",
    "\n",
    "| dtype | Feature|\n",
    "|:-:|:-:|\n",
    "|`u` |u band filter|\n",
    "|`g` |g band filter|\n",
    "|`r` |r band filter|\n",
    "|`i` |i band filter|\n",
    "|`z` |z band filter|\n",
    "|`spec_class` |spectral class|\n",
    "|`redshift` |redshift|\n",
    "|`redshift_err` |redshift error|\n"
   ]
  },
  {
   "cell_type": "markdown",
   "metadata": {
    "id": "ca9ZEeaNK8Vh"
   },
   "source": [
    "El número de galaxias en el conjunto es"
   ]
  },
  {
   "cell_type": "code",
   "execution_count": 2,
   "metadata": {
    "colab": {
     "base_uri": "https://localhost:8080/"
    },
    "executionInfo": {
     "elapsed": 536,
     "status": "ok",
     "timestamp": 1612142762690,
     "user": {
      "displayName": "Eduard Alexis Larranaga",
      "photoUrl": "https://lh3.googleusercontent.com/a-/AOh14GgCVABzEgj-rCdyxWa29RnA0kIYUCXAaVbnRYOEhQ=s64",
      "userId": "04402438389940282602"
     },
     "user_tz": 300
    },
    "id": "8JHyXtPlK6Hs",
    "outputId": "12892e14-8457-4cd4-d2a9-4befaa94a8c6"
   },
   "outputs": [
    {
     "data": {
      "text/plain": [
       "50000"
      ]
     },
     "execution_count": 2,
     "metadata": {},
     "output_type": "execute_result"
    }
   ],
   "source": [
    "n = data.size\n",
    "n"
   ]
  },
  {
   "cell_type": "markdown",
   "metadata": {
    "id": "geu4TFRioNgx"
   },
   "source": [
    "---\n",
    "### Entrenamiento del Árbol de Decisión\n",
    "\n",
    "Como se vió en la práctica anterior, los árboles de decisión tienen ventajas como\n",
    "\n",
    "- Son fáciles de implementar \n",
    "- Son fáciles de interpretar\n",
    "- Los datos no requieren mucha preparación \n",
    "- Usualmente los árboles de decisión son eficientes computacionalmente.\n",
    "\n",
    "Sin embargo, los árboles de decisión también tienen limitaciones. La mayor de ellas es que tienden a sobre-ajustar los datos si no se supervisa el proceso de entrenamiento. Con el sobre-ajuste, se intentará crear un árbol supercomplicado que intenta dar cuenta de todos los datos de entrada. \n"
   ]
  },
  {
   "cell_type": "markdown",
   "metadata": {
    "id": "675UL8zdLlbc"
   },
   "source": [
    "El primer paso para el entrenamiento del árbol es definir los conjuntos de entrada 'features' y 'targets'."
   ]
  },
  {
   "cell_type": "code",
   "execution_count": 3,
   "metadata": {
    "id": "Q53oIok9eCgL"
   },
   "outputs": [],
   "source": [
    "# Function returning the 4 color indices and the redshifts\n",
    "import numpy as np\n",
    "\n",
    "features, targets = np.asarray([data['u']-data['g'],\\\n",
    "                                data['g']-data['i'],\\\n",
    "                                data['r']-data['i'],\\\n",
    "                                data['i']-data['z']]), \\\n",
    "                    np.asarray(data['redshift'])"
   ]
  },
  {
   "cell_type": "code",
   "execution_count": 4,
   "metadata": {},
   "outputs": [
    {
     "data": {
      "text/plain": [
       "(50000,)"
      ]
     },
     "execution_count": 4,
     "metadata": {},
     "output_type": "execute_result"
    }
   ],
   "source": [
    "targets.shape"
   ]
  },
  {
   "cell_type": "code",
   "execution_count": 5,
   "metadata": {},
   "outputs": [
    {
     "data": {
      "text/plain": [
       "(4, 50000)"
      ]
     },
     "execution_count": 5,
     "metadata": {},
     "output_type": "execute_result"
    }
   ],
   "source": [
    "features.shape"
   ]
  },
  {
   "cell_type": "code",
   "execution_count": 6,
   "metadata": {},
   "outputs": [
    {
     "data": {
      "text/plain": [
       "(50000, 4)"
      ]
     },
     "execution_count": 6,
     "metadata": {},
     "output_type": "execute_result"
    }
   ],
   "source": [
    "features = features.T\n",
    "features.shape"
   ]
  },
  {
   "cell_type": "markdown",
   "metadata": {
    "id": "3DjjbFANBHcD"
   },
   "source": [
    "Luego, deben dividirse estos arreglos en los subconjuntos de entrenamiento y prueba. Puede escogerse una división de (50:50)"
   ]
  },
  {
   "cell_type": "code",
   "execution_count": 7,
   "metadata": {
    "id": "JTULQCiYZ8U-"
   },
   "outputs": [],
   "source": [
    "split_n = n//2\n",
    "train_features = features[:split_n]\n",
    "test_features = features[split_n:]\n",
    "train_targets = targets[:split_n]\n",
    "test_targets = targets[split_n:]"
   ]
  },
  {
   "cell_type": "code",
   "execution_count": 8,
   "metadata": {},
   "outputs": [
    {
     "data": {
      "text/plain": [
       "(25000, 4)"
      ]
     },
     "metadata": {},
     "output_type": "display_data"
    },
    {
     "data": {
      "text/plain": [
       "(25000, 4)"
      ]
     },
     "metadata": {},
     "output_type": "display_data"
    },
    {
     "data": {
      "text/plain": [
       "(25000,)"
      ]
     },
     "metadata": {},
     "output_type": "display_data"
    },
    {
     "data": {
      "text/plain": [
       "(25000,)"
      ]
     },
     "metadata": {},
     "output_type": "display_data"
    }
   ],
   "source": [
    "display(train_features.shape, \n",
    "        test_features.shape, \n",
    "        train_targets.shape, \n",
    "        test_targets.shape)"
   ]
  },
  {
   "cell_type": "markdown",
   "metadata": {
    "id": "FNehsBLLFWUH"
   },
   "source": [
    "Ahora se utilizará de nuevo la función `sklearn.tree.DecisionTreeRegressor`. Sin embargo, en esta ocasión se utilizará el argumento **tree depth** para reducir el sobre-ajuste. Este argumento restringe el número de nodos en el árbol. Incialmente, definiremos una profundidad máxima de 5,"
   ]
  },
  {
   "cell_type": "code",
   "execution_count": 9,
   "metadata": {
    "id": "mG9255X6fcdH"
   },
   "outputs": [],
   "source": [
    "from sklearn.tree import DecisionTreeRegressor\n",
    "\n",
    "dec_tree = DecisionTreeRegressor(max_depth=5)"
   ]
  },
  {
   "cell_type": "markdown",
   "metadata": {
    "id": "twCZM4TefbG5"
   },
   "source": [
    "\n",
    "Utilizando el método `.fit()` se entrenará el algoritmo utilizando los subconjuntos correspondientes.\n",
    "\n",
    "Información detallada de los árboles de decisión se puede encontrar en \n",
    "\n",
    "https://scikit-learn.org/stable/auto_examples/tree/plot_tree_regression.html"
   ]
  },
  {
   "cell_type": "code",
   "execution_count": 10,
   "metadata": {
    "id": "DcJwQ_8bgmdW"
   },
   "outputs": [
    {
     "data": {
      "text/plain": [
       "DecisionTreeRegressor(max_depth=5)"
      ]
     },
     "execution_count": 10,
     "metadata": {},
     "output_type": "execute_result"
    }
   ],
   "source": [
    "dec_tree.fit(train_features, train_targets)"
   ]
  },
  {
   "cell_type": "markdown",
   "metadata": {
    "id": "C4-CuGQ2YDt6"
   },
   "source": [
    "#### Prueba del Árbol de Decisión\n",
    "\n",
    "Una vez que se construye en árbol de decisión, se aplicará el método `.predict()` sobre el conjunto de prueba,"
   ]
  },
  {
   "cell_type": "code",
   "execution_count": 11,
   "metadata": {
    "id": "hV_1GWdc6GL6"
   },
   "outputs": [],
   "source": [
    "predictions = dec_tree.predict(test_features)"
   ]
  },
  {
   "cell_type": "markdown",
   "metadata": {
    "id": "OniL8coCYm9-"
   },
   "source": [
    "Al igual que se hizo anteriormente, se utilizará la mediana de los residuos para medir la precisión del algoritmo,\n",
    "\n",
    "\\begin{equation}\n",
    "\\text{eval_dec_tree} = \\text{median}\\left\\lbrace \\left| \\text{predictions}_i - \\text{targets}_i \\right|\\right\\rbrace\n",
    "\\end{equation}\n",
    "\n"
   ]
  },
  {
   "cell_type": "code",
   "execution_count": 12,
   "metadata": {
    "id": "SDLt8C-IZJUG"
   },
   "outputs": [
    {
     "data": {
      "text/plain": [
       "0.03756328502826199"
      ]
     },
     "execution_count": 12,
     "metadata": {},
     "output_type": "execute_result"
    }
   ],
   "source": [
    "eval_dec_tree = np.median(np.abs(predictions - test_targets))\n",
    "eval_dec_tree"
   ]
  },
  {
   "cell_type": "markdown",
   "metadata": {
    "id": "DGdRXf17ZwKD"
   },
   "source": [
    "#### Sobre-Ajuste y Profundidad del Árbol \n",
    "\n",
    "Para observar el sobre-ajuste de los datos, se examinará el papel de la profundidad del árbol en la precisión del ajuste. Se podría esperar que a mayor profundidad, mejor sería la precisión. Sin embargo, una mayor profundidad resultará en un sobre-ajuste de los datos de entrenamiento que a su vez implicará una menor precisión en la predicción del algoritmo."
   ]
  },
  {
   "cell_type": "markdown",
   "metadata": {},
   "source": [
    "**1. Defina una función que cree el árbol de decisión  con profundidades en el rango de 0 a 40. La función debe predecir el corrimiento al rojo de los conjuntos de entrenamiento y de prueba y calcular la mediana de los residuos para evaluar el algoritmo.**"
   ]
  },
  {
   "cell_type": "markdown",
   "metadata": {},
   "source": [
    "Recapitulando, los datos de índices de color y $z$ están en los arreglos `features` y `targets`, respectivamente. Además, los conjuntos de entrenamiento y prueba son `train_features`, `test_features`, `train_targets`, y\n",
    " `test_targets`, respectivamente.\n",
    " \n",
    "Ahora, procedamos a crear un método (o función) llamado `CreateDecisionTree()`. Este método hará tres tareas:\n",
    "1. Crear el árbol de decisión para una profundidad dada.\n",
    "2. Hacer la predicción (del $z$) para los conjuntos de entrenamiento y de prueba.\n",
    "3. Calcular la media (para ambas predicciones)."
   ]
  },
  {
   "cell_type": "code",
   "execution_count": 13,
   "metadata": {},
   "outputs": [],
   "source": [
    "def CreateDecisionTree(depth, \n",
    "                       X, X_test, y, y_test):\n",
    "    '''\n",
    "    ------------------------------------------\n",
    "    CreationDecisionTree()\n",
    "    ------------------------------------------\n",
    "    Create a decision tree from the scikit \n",
    "    learn package given a depth, make a \n",
    "    prediction, compute the median between\n",
    "    the prediction and the test target set, and\n",
    "    return the median.\n",
    "    \n",
    "    Input:\n",
    "        depth:  the depth of the three\n",
    "        X:      train features\n",
    "        X_test: test features\n",
    "        y:      train targets\n",
    "        y_test: test targets        \n",
    "    \n",
    "    Output: \n",
    "        median: the median between the predic-\n",
    "        tion and the test target set.\n",
    "    ------------------------------------------\n",
    "    '''\n",
    "    import numpy as np\n",
    "    from sklearn.tree import DecisionTreeRegressor\n",
    "    \n",
    "    # Fit regression model\n",
    "    regr = DecisionTreeRegressor(max_depth=depth)    \n",
    "    regr.fit(X, y)\n",
    "\n",
    "    # Predict\n",
    "    y_predict      = regr.predict(X)\n",
    "    y_predict_test = regr.predict(X_test)\n",
    "\n",
    "    # Compute the median\n",
    "    m_training   = np.median(np.abs(y_predict - y))\n",
    "    m_validation = np.median(np.abs(y_predict_test - y_test))\n",
    "    \n",
    "    return m_training, m_validation"
   ]
  },
  {
   "cell_type": "markdown",
   "metadata": {},
   "source": [
    "Bien, ahora vamos a usar el método para calcular la mediana, dada las profundidades de 0 a 40. (Note que la profundidad debe ser mayor que cero, de acuerdo con la descrición del método `DecisionTreeRegressor()` del paquete `tree` de `sklearn`)."
   ]
  },
  {
   "cell_type": "code",
   "execution_count": 16,
   "metadata": {},
   "outputs": [],
   "source": [
    "import numpy as np\n",
    "\n",
    "depth = np.linspace(2, 40, 100, endpoint=True)  # num=40 is enough\n",
    "m_t = np.zeros(len(depth))    # median_training\n",
    "m_v = np.zeros(len(depth))    # median_validation\n",
    "\n",
    "for i in range(0, len(depth)):    \n",
    "    m_t[i], m_v[i] = CreateDecisionTree(depth = depth[i], \n",
    "                                        X = train_features,\n",
    "                                        X_test = test_features, \n",
    "                                        y = train_targets, \n",
    "                                        y_test = test_targets) "
   ]
  },
  {
   "cell_type": "markdown",
   "metadata": {},
   "source": [
    "**2. Grafique la mediana de los residuos vs profundidad del árbol.**\n",
    "\n",
    "El gráfico debe lucir como este:\n",
    "\n",
    "<center>\n",
    "<img src=\"https://groklearning-cdn.com/problems/8Cet6iLGMbP2L8t7SVkEEg/overfitting.png\" width=450>\n",
    "</center>"
   ]
  },
  {
   "cell_type": "markdown",
   "metadata": {
    "id": "nUY7ZcLrAQOT"
   },
   "source": [
    "Este gráfico muestra como la precisión sobre el conjunto de entrenamiento mejora con la profundidad. En efecto,  **para profundidades superiores a 27, el error es cero!**\n",
    "\n",
    "Sin embargo, la predicción sobre el conjunto de prueba mejora inicialmente, pero luego empeora para grandes profundidades. Como se puede observar de la figura, para profundidades mayores que 19, el arbol de decisión comienza a presentar un sobre-ajuste de los datos de entrenamiento que se manifiesta como un aumento en el error de las predicciones en el conjunto de prueba. \n",
    "\n",
    "De acuerdo con esta información, para el conjunto de datos de galaxias es posible prevenir el sobre-ajuste al utilziar una profundidad máxima alrededor de 19 o 20."
   ]
  },
  {
   "cell_type": "code",
   "execution_count": 20,
   "metadata": {},
   "outputs": [
    {
     "data": {
      "image/png": "[encoded data removed]",
      "text/plain": [
       "<Figure size 432x288 with 1 Axes>"
      ]
     },
     "metadata": {
      "needs_background": "light"
     },
     "output_type": "display_data"
    }
   ],
   "source": [
    "# Plot the results\n",
    "from matplotlib import pyplot as plt\n",
    "\n",
    "plt.figure()\n",
    "plt.plot(depth, m_t, label=\"Training set\", linewidth=2)\n",
    "plt.plot(depth, m_v, label=\"Validation set\", linewidth=2)\n",
    "plt.xlabel(\"Maximum Tree Depth\")\n",
    "plt.ylabel(\"Median of Differences\")\n",
    "plt.legend()\n",
    "plt.show()"
   ]
  },
  {
   "cell_type": "markdown",
   "metadata": {},
   "source": [
    "¡Excelente! Nuestra gráfica luce algo parecida a la esperada, salvo que la nuestra tiene mayor densidad de puntos y nuestro punto crítico está alrededor de una profundidad del árbol de 21."
   ]
  }
 ],
 "metadata": {
  "colab": {
   "collapsed_sections": [],
   "name": "02. The Problem of Over-fitting Decision Trees.ipynb",
   "provenance": []
  },
  "kernelspec": {
   "display_name": "Python 3 (ipykernel)",
   "language": "python",
   "name": "python3"
  },
  "language_info": {
   "codemirror_mode": {
    "name": "ipython",
    "version": 3
   },
   "file_extension": ".py",
   "mimetype": "text/x-python",
   "name": "python",
   "nbconvert_exporter": "python",
   "pygments_lexer": "ipython3",
   "version": "3.8.10"
  }
 },
 "nbformat": 4,
 "nbformat_minor": 1
}
